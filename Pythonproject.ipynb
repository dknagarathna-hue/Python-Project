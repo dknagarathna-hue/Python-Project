{
 "cells": [
  {
   "cell_type": "code",
   "execution_count": 1,
   "id": "f2af5790-97a7-4042-a8e0-88ecf8000173",
   "metadata": {},
   "outputs": [],
   "source": [
    "import pandas as pd\n",
    "import numpy as np"
   ]
  },
  {
   "cell_type": "code",
   "execution_count": 17,
   "id": "adf21993-91d8-45f5-8e42-362c24b30053",
   "metadata": {},
   "outputs": [
    {
     "name": "stdout",
     "output_type": "stream",
     "text": [
      "Task 1: DataFrames created and saved.\n",
      "\n",
      "Project DataFrame:\n",
      "       ID     Project       Cost    Status\n",
      "0   A001   Project 1  1002000.0  Finished\n",
      "1   A002   Project 2  2000000.0   Ongoing\n",
      "2   A003   Project 3  4500000.0  Finished\n",
      "3   A004   Project 4  5500000.0   Ongoing\n",
      "4   A005   Project 5        NaN  Finished\n",
      "5   A002   Project 6   680000.0    Failed\n",
      "6   A005   Project 7   400000.0  Finished\n",
      "7   A003   Project 8   350000.0    Failed\n",
      "8   A001   Project 9        NaN   Ongoing\n",
      "9   A003  Project 10   300000.0  Finished\n",
      "10  A001  Project 11  2000000.0    Failed\n",
      "11  A004  Project 12  1000000.0   Ongoing\n",
      "12  A004  Project 13  3000000.0  Finished\n",
      "13  A005  Project 14   200000.0  Finished \n",
      "\n",
      "Employee DataFrame:\n",
      "      ID             Name Gender     City  Age\n",
      "0  A001       John Alter      M    Paris   25\n",
      "1  A002  Alice Luxemburg      F   London   27\n",
      "2  A003    Tom Sabestine      M   Berlin   29\n",
      "3  A004       Nina Adgra      F  Newyork   31\n",
      "4  A005        Amy Johny      F   Madrid   30 \n",
      "\n",
      "Seniority DataFrame:\n",
      "      ID  Designation Level\n",
      "0  A001                  2\n",
      "1  A002                  2\n",
      "2  A003                  3\n",
      "3  A004                  2\n",
      "4  A005                  3 \n",
      "\n"
     ]
    }
   ],
   "source": [
    "# Task 1: Create dataframes and save to CSV \n",
    "project_data = {\n",
    "    \"ID\": [\"A001\", \"A002\", \"A003\", \"A004\", \"A005\", \"A002\", \"A005\", \"A003\", \"A001\", \"A003\", \"A001\", \"A004\", \"A004\", \"A005\"],\n",
    "    \"Project\": [\n",
    "        \"Project 1\", \"Project 2\", \"Project 3\", \"Project 4\", \"Project 5\",\n",
    "        \"Project 6\", \"Project 7\", \"Project 8\", \"Project 9\", \"Project 10\",\n",
    "        \"Project 11\", \"Project 12\", \"Project 13\", \"Project 14\"\n",
    "    ],\n",
    "    \"Cost\": [1002000, 2000000, 4500000, 5500000, np.nan, 680000, 400000, 350000, np.nan, 300000, 2000000, 1000000, 3000000, 200000],\n",
    "    \"Status\": [\n",
    "        \"Finished\", \"Ongoing\", \"Finished\", \"Ongoing\", \"Finished\",\n",
    "        \"Failed\", \"Finished\", \"Failed\", \"Ongoing\", \"Finished\",\n",
    "        \"Failed\", \"Ongoing\", \"Finished\", \"Finished\"\n",
    "    ]\n",
    "}\n",
    "project_df = pd.DataFrame(project_data)\n",
    "\n",
    "employee_data = {\n",
    "    \"ID\": [\"A001\", \"A002\", \"A003\", \"A004\", \"A005\"],\n",
    "    \"Name\": [\"John Alter\", \"Alice Luxemburg\", \"Tom Sabestine\", \"Nina Adgra\", \"Amy Johny\"],\n",
    "    \"Gender\": [\"M\", \"F\", \"M\", \"F\", \"F\"],\n",
    "    \"City\": [\"Paris\", \"London\", \"Berlin\", \"Newyork\", \"Madrid\"],\n",
    "    \"Age\": [25, 27, 29, 31, 30]\n",
    "}\n",
    "employee_df = pd.DataFrame(employee_data)\n",
    "\n",
    "seniority_data = {\n",
    "    \"ID\": [\"A001\", \"A002\", \"A003\", \"A004\", \"A005\"],\n",
    "    \"Designation Level\": [2, 2, 3, 2, 3]\n",
    "}\n",
    "seniority_df = pd.DataFrame(seniority_data)\n",
    "\n",
    "project_df.to_csv(\"project.csv\", index=False)\n",
    "employee_df.to_csv(\"employee.csv\", index=False)\n",
    "seniority_df.to_csv(\"seniority.csv\", index=False)\n",
    "\n",
    "print(\"Task 1: DataFrames created and saved.\\n\")\n",
    "print(\"Project DataFrame:\\n\", project_df, \"\\n\")\n",
    "print(\"Employee DataFrame:\\n\", employee_df, \"\\n\")\n",
    "print(\"Seniority DataFrame:\\n\", seniority_df, \"\\n\")"
   ]
  },
  {
   "cell_type": "code",
   "execution_count": 18,
   "id": "05ed5d77-9201-4ac5-846c-6937c16ae205",
   "metadata": {},
   "outputs": [
    {
     "name": "stdout",
     "output_type": "stream",
     "text": [
      "Task 2: Missing 'Cost' replaced by running average:\n",
      " 0     1002000.0\n",
      "1     2000000.0\n",
      "2     4500000.0\n",
      "3     5500000.0\n",
      "4     3250500.0\n",
      "5      680000.0\n",
      "6      400000.0\n",
      "7      350000.0\n",
      "8     2210312.5\n",
      "9      300000.0\n",
      "10    2000000.0\n",
      "11    1000000.0\n",
      "12    3000000.0\n",
      "13     200000.0\n",
      "Name: Cost, dtype: float64 \n",
      "\n"
     ]
    }
   ],
   "source": [
    "#  Task 2: Replace missing 'Cost' using running average with a for loop \n",
    "costs = project_df['Cost'].values  # numpy array\n",
    "\n",
    "for i in range(len(costs)):\n",
    "    if np.isnan(costs[i]):\n",
    "        prev_vals = costs[:i][~np.isnan(costs[:i])]  # previous non-NaN values\n",
    "        if len(prev_vals) > 0:\n",
    "            costs[i] = np.mean(prev_vals)\n",
    "        else:\n",
    "            costs[i] = 0  # default if first value is NaN\n",
    "\n",
    "project_df['Cost'] = costs\n",
    "print(\"Task 2: Missing 'Cost' replaced by running average:\\n\", project_df['Cost'], \"\\n\")"
   ]
  },
  {
   "cell_type": "code",
   "execution_count": 19,
   "id": "7656a06e-f46e-4484-ad2d-54dfc745e712",
   "metadata": {},
   "outputs": [
    {
     "name": "stdout",
     "output_type": "stream",
     "text": [
      "Task 3: Split 'Name' column:\n",
      "      ID Gender     City  Age First Name  Last Name\n",
      "0  A001      M    Paris   25       John      Alter\n",
      "1  A002      F   London   27      Alice  Luxemburg\n",
      "2  A003      M   Berlin   29        Tom  Sabestine\n",
      "3  A004      F  Newyork   31       Nina      Adgra\n",
      "4  A005      F   Madrid   30        Amy      Johny \n",
      "\n"
     ]
    }
   ],
   "source": [
    "# Task 3: Split 'Name' into 'First Name' and 'Last Name' \n",
    "employee_df[['First Name', 'Last Name']] = employee_df['Name'].str.split(' ', n=1, expand=True)\n",
    "employee_df.drop(columns=['Name'], inplace=True)\n",
    "print(\"Task 3: Split 'Name' column:\\n\", employee_df, \"\\n\")"
   ]
  },
  {
   "cell_type": "code",
   "execution_count": 20,
   "id": "5c56a355-9210-405c-9d3e-4272bf736d1a",
   "metadata": {},
   "outputs": [
    {
     "name": "stdout",
     "output_type": "stream",
     "text": [
      "Task 4: Joined DataFrame 'Final':\n",
      "       ID     Project       Cost    Status Gender     City  Age First Name  \\\n",
      "0   A001   Project 1  1002000.0  Finished      M    Paris   25       John   \n",
      "1   A002   Project 2  2000000.0   Ongoing      F   London   27      Alice   \n",
      "2   A003   Project 3  4500000.0  Finished      M   Berlin   29        Tom   \n",
      "3   A004   Project 4  5500000.0   Ongoing      F  Newyork   31       Nina   \n",
      "4   A005   Project 5  3250500.0  Finished      F   Madrid   30        Amy   \n",
      "5   A002   Project 6   680000.0    Failed      F   London   27      Alice   \n",
      "6   A005   Project 7   400000.0  Finished      F   Madrid   30        Amy   \n",
      "7   A003   Project 8   350000.0    Failed      M   Berlin   29        Tom   \n",
      "8   A001   Project 9  2210312.5   Ongoing      M    Paris   25       John   \n",
      "9   A003  Project 10   300000.0  Finished      M   Berlin   29        Tom   \n",
      "10  A001  Project 11  2000000.0    Failed      M    Paris   25       John   \n",
      "11  A004  Project 12  1000000.0   Ongoing      F  Newyork   31       Nina   \n",
      "12  A004  Project 13  3000000.0  Finished      F  Newyork   31       Nina   \n",
      "13  A005  Project 14   200000.0  Finished      F   Madrid   30        Amy   \n",
      "\n",
      "    Last Name  Designation Level  \n",
      "0       Alter                  2  \n",
      "1   Luxemburg                  2  \n",
      "2   Sabestine                  3  \n",
      "3       Adgra                  2  \n",
      "4       Johny                  3  \n",
      "5   Luxemburg                  2  \n",
      "6       Johny                  3  \n",
      "7   Sabestine                  3  \n",
      "8       Alter                  2  \n",
      "9   Sabestine                  3  \n",
      "10      Alter                  2  \n",
      "11      Adgra                  2  \n",
      "12      Adgra                  2  \n",
      "13      Johny                  3   \n",
      "\n"
     ]
    }
   ],
   "source": [
    "# Task 4: Join all three dataframes into one named 'Final' \n",
    "final_df = project_df.merge(employee_df, on='ID', how='left').merge(seniority_df, on='ID', how='left')\n",
    "print(\"Task 4: Joined DataFrame 'Final':\\n\", final_df, \"\\n\")"
   ]
  },
  {
   "cell_type": "code",
   "execution_count": 21,
   "id": "f4a39d67-6110-4a02-a9cb-23bd77007565",
   "metadata": {},
   "outputs": [
    {
     "name": "stdout",
     "output_type": "stream",
     "text": [
      "Task 5: Bonus column added:\n",
      "        Project    Status       Cost     Bonus\n",
      "0    Project 1  Finished  1002000.0   50100.0\n",
      "1    Project 2   Ongoing  2000000.0       0.0\n",
      "2    Project 3  Finished  4500000.0  225000.0\n",
      "3    Project 4   Ongoing  5500000.0       0.0\n",
      "4    Project 5  Finished  3250500.0  162525.0\n",
      "5    Project 6    Failed   680000.0       0.0\n",
      "6    Project 7  Finished   400000.0   20000.0\n",
      "7    Project 8    Failed   350000.0       0.0\n",
      "8    Project 9   Ongoing  2210312.5       0.0\n",
      "9   Project 10  Finished   300000.0   15000.0\n",
      "10  Project 11    Failed  2000000.0       0.0\n",
      "11  Project 12   Ongoing  1000000.0       0.0\n",
      "12  Project 13  Finished  3000000.0  150000.0\n",
      "13  Project 14  Finished   200000.0   10000.0 \n",
      "\n"
     ]
    }
   ],
   "source": [
    "# Task 5: Add bonus column - 5% bonus of project cost for finished projects only \n",
    "final_df['Bonus'] = np.where(final_df['Status'] == 'Finished', final_df['Cost'] * 0.05, 0)\n",
    "print(\"Task 5: Bonus column added:\\n\", final_df[['Project', 'Status', 'Cost', 'Bonus']], \"\\n\")"
   ]
  },
  {
   "cell_type": "code",
   "execution_count": 22,
   "id": "2e581907-5955-414a-8c21-997256b1970f",
   "metadata": {},
   "outputs": [
    {
     "name": "stdout",
     "output_type": "stream",
     "text": [
      "Task 6: Demoted designation level and removed levels > 4:\n",
      "       ID    Status  Designation Level\n",
      "0   A001  Finished                  2\n",
      "1   A002   Ongoing                  2\n",
      "2   A003  Finished                  3\n",
      "3   A004   Ongoing                  2\n",
      "4   A005  Finished                  3\n",
      "5   A002    Failed                  1\n",
      "6   A005  Finished                  3\n",
      "7   A003    Failed                  2\n",
      "8   A001   Ongoing                  2\n",
      "9   A003  Finished                  3\n",
      "10  A001    Failed                  1\n",
      "11  A004   Ongoing                  2\n",
      "12  A004  Finished                  2\n",
      "13  A005  Finished                  3 \n",
      "\n"
     ]
    }
   ],
   "source": [
    "#  Task 6: Demote designation level by 1 where status is 'Failed'; delete employees with designation level > 4 \n",
    "# Demote by 1 if status == 'Failed'\n",
    "final_df.loc[final_df['Status'] == 'Failed', 'Designation Level'] -= 1\n",
    "print(\"Task 6: Demoted designation level and removed levels > 4:\\n\", final_df[['ID', 'Status', 'Designation Level']], \"\\n\")"
   ]
  },
  {
   "cell_type": "code",
   "execution_count": 23,
   "id": "852c75e4-8d4f-41e6-bd9b-3aabcd195054",
   "metadata": {},
   "outputs": [
    {
     "name": "stdout",
     "output_type": "stream",
     "text": [
      "Task 7: Added prefixes and dropped Gender:\n",
      "     First Name  Age\n",
      "0     Mr. John   25\n",
      "1   Mrs. Alice   27\n",
      "2      Mr. Tom   29\n",
      "3    Mrs. Nina   31\n",
      "4     Mrs. Amy   30\n",
      "5   Mrs. Alice   27\n",
      "6     Mrs. Amy   30\n",
      "7      Mr. Tom   29\n",
      "8     Mr. John   25\n",
      "9      Mr. Tom   29\n",
      "10    Mr. John   25\n",
      "11   Mrs. Nina   31\n",
      "12   Mrs. Nina   31\n",
      "13    Mrs. Amy   30 \n",
      "\n"
     ]
    }
   ],
   "source": [
    "# Task 7: Add 'Mr.' and 'Mrs.' to first names and drop 'Gender' column \n",
    "final_df['First Name'] = np.where(final_df['Gender'] == 'M', 'Mr. ' + final_df['First Name'], 'Mrs. ' + final_df['First Name'])\n",
    "final_df.drop(columns=['Gender'], inplace=True)\n",
    "print(\"Task 7: Added prefixes and dropped Gender:\\n\", final_df[['First Name', 'Age']], \"\\n\")"
   ]
  },
  {
   "cell_type": "code",
   "execution_count": 30,
   "id": "bf7a9bb7-7a5f-4b1f-b9cf-b4e6296c3923",
   "metadata": {},
   "outputs": [
    {
     "name": "stdout",
     "output_type": "stream",
     "text": [
      "Task 8: Promoted designation level to 1 where Age > 29\n",
      "\n",
      "      ID  Age  Designation Level\n",
      "0   A001   25                  2\n",
      "1   A002   27                  2\n",
      "2   A003   29                  3\n",
      "3   A004   31                  1\n",
      "4   A005   30                  1\n",
      "5   A002   27                  1\n",
      "6   A005   30                  1\n",
      "7   A003   29                  2\n",
      "8   A001   25                  2\n",
      "9   A003   29                  3\n",
      "10  A001   25                  1\n",
      "11  A004   31                  1\n",
      "12  A004   31                  1\n",
      "13  A005   30                  1\n"
     ]
    }
   ],
   "source": [
    "# Task 8: Promote designation level to 1 if employee age > 29 \n",
    "for i in range(len(final_df)):\n",
    "    # Check if Age is greater than 29\n",
    "    if final_df.loc[i, 'Age'] > 29:\n",
    "        # Set Designation Level to 1\n",
    "        final_df.loc[i, 'Designation Level'] = 1\n",
    "\n",
    "\n",
    "print(\"Task 8: Promoted designation level to 1 where Age > 29\\n\")\n",
    "print(final_df[['ID', 'Age', 'Designation Level']])"
   ]
  },
  {
   "cell_type": "code",
   "execution_count": 28,
   "id": "b1ff2988-0994-40fe-83e4-428ed6a9977c",
   "metadata": {},
   "outputs": [
    {
     "name": "stdout",
     "output_type": "stream",
     "text": [
      "Task 9: Total project cost per employee:\n",
      "      ID  TotalProjCost  First Name\n",
      "0  A001      5212312.5    Mr. John\n",
      "1  A002      2680000.0  Mrs. Alice\n",
      "2  A003      5150000.0     Mr. Tom\n",
      "3  A004      9500000.0   Mrs. Nina\n",
      "4  A005      3850500.0    Mrs. Amy \n",
      "\n"
     ]
    }
   ],
   "source": [
    "# Task 9: Add total project cost per employee \n",
    "# Group by ID and sum Cost\n",
    "total_proj_cost = final_df.groupby('ID')['Cost'].sum().reset_index(name='TotalProjCost')\n",
    "\n",
    "# Merge total cost back with first and last names\n",
    "total_proj_cost = total_proj_cost.merge(final_df[['ID', 'First Name',]].drop_duplicates(), on='ID')\n",
    "\n",
    "print(\"Task 9: Total project cost per employee:\\n\", total_proj_cost, \"\\n\")"
   ]
  },
  {
   "cell_type": "code",
   "execution_count": 26,
   "id": "b2d805d6-84b5-423b-82fb-3be3d1f37495",
   "metadata": {},
   "outputs": [
    {
     "name": "stdout",
     "output_type": "stream",
     "text": [
      "Task 10: Employees with 'o' in city name:\n",
      "       ID  First Name  Last Name     City\n",
      "1   A002  Mrs. Alice  Luxemburg   London\n",
      "3   A004   Mrs. Nina      Adgra  Newyork\n",
      "5   A002  Mrs. Alice  Luxemburg   London\n",
      "11  A004   Mrs. Nina      Adgra  Newyork\n",
      "12  A004   Mrs. Nina      Adgra  Newyork \n",
      "\n"
     ]
    }
   ],
   "source": [
    "#  Task 10: Print employee details where city name contains letter 'o' \n",
    "employees_with_o = final_df[final_df['City'].str.contains('o', case=False, na=False)]\n",
    "print(\"Task 10: Employees with 'o' in city name:\\n\", employees_with_o[['ID', 'First Name', 'Last Name', 'City']], \"\\n\")"
   ]
  },
  {
   "cell_type": "code",
   "execution_count": null,
   "id": "de0fac62-8815-479f-bfed-8b8acd337680",
   "metadata": {},
   "outputs": [],
   "source": []
  }
 ],
 "metadata": {
  "kernelspec": {
   "display_name": "Python 3 (ipykernel)",
   "language": "python",
   "name": "python3"
  },
  "language_info": {
   "codemirror_mode": {
    "name": "ipython",
    "version": 3
   },
   "file_extension": ".py",
   "mimetype": "text/x-python",
   "name": "python",
   "nbconvert_exporter": "python",
   "pygments_lexer": "ipython3",
   "version": "3.13.5"
  }
 },
 "nbformat": 4,
 "nbformat_minor": 5
}
